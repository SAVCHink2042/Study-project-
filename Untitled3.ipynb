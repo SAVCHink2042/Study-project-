{
  "nbformat": 4,
  "nbformat_minor": 0,
  "metadata": {
    "colab": {
      "provenance": [],
      "authorship_tag": "ABX9TyMOBQ5YfY57SIhyv1vUyOt+",
      "include_colab_link": true
    },
    "kernelspec": {
      "name": "python3",
      "display_name": "Python 3"
    },
    "language_info": {
      "name": "python"
    }
  },
  "cells": [
    {
      "cell_type": "markdown",
      "metadata": {
        "id": "view-in-github",
        "colab_type": "text"
      },
      "source": [
        "<a href=\"https://colab.research.google.com/github/SAVCHink2042/Study-project-/blob/main/Untitled3.ipynb\" target=\"_parent\"><img src=\"https://colab.research.google.com/assets/colab-badge.svg\" alt=\"Open In Colab\"/></a>"
      ]
    },
    {
      "cell_type": "code",
      "execution_count": null,
      "metadata": {
        "colab": {
          "base_uri": "https://localhost:8080/"
        },
        "id": "BkAUJJmwmlej",
        "outputId": "2134d36f-a7fd-4db2-dda5-bb6f0450499f"
      },
      "outputs": [
        {
          "output_type": "stream",
          "name": "stdout",
          "text": [
            "Пол\n",
            "ЖЕНСКИЙ    332.620172\n",
            "МУЖСКОЙ    331.137446\n",
            "Name: Сумма.баллов, dtype: float64\n",
            "Аттестат.с.отличием.оценка\n",
            "0    325.807783\n",
            "5    340.750923\n",
            "Name: Сумма.баллов, dtype: float64\n",
            "Пол      Аттестат.с.отличием.оценка\n",
            "ЖЕНСКИЙ  0                             325.145631\n",
            "         5                             338.542308\n",
            "МУЖСКОЙ  0                             326.020249\n",
            "         5                             342.787234\n",
            "Name: Сумма.баллов, dtype: float64\n",
            "введите 2 числа. Диапазон баллов\n",
            "78 92\n",
            "769\n",
            "  Диапазон Количество\n",
            "0      <70        103\n",
            "1    70-80        396\n",
            "2    80-90        557\n",
            "3      >90        326\n"
          ]
        },
        {
          "output_type": "stream",
          "name": "stderr",
          "text": [
            "<ipython-input-5-3705487303ec>:26: FutureWarning: The frame.append method is deprecated and will be removed from pandas in a future version. Use pandas.concat instead.\n",
            "  new_dataset = new_dataset.append({'Диапазон': range_name, 'Количество': count}, ignore_index=True)\n",
            "<ipython-input-5-3705487303ec>:26: FutureWarning: The frame.append method is deprecated and will be removed from pandas in a future version. Use pandas.concat instead.\n",
            "  new_dataset = new_dataset.append({'Диапазон': range_name, 'Количество': count}, ignore_index=True)\n",
            "<ipython-input-5-3705487303ec>:26: FutureWarning: The frame.append method is deprecated and will be removed from pandas in a future version. Use pandas.concat instead.\n",
            "  new_dataset = new_dataset.append({'Диапазон': range_name, 'Количество': count}, ignore_index=True)\n",
            "<ipython-input-5-3705487303ec>:26: FutureWarning: The frame.append method is deprecated and will be removed from pandas in a future version. Use pandas.concat instead.\n",
            "  new_dataset = new_dataset.append({'Диапазон': range_name, 'Количество': count}, ignore_index=True)\n"
          ]
        }
      ],
      "source": [
        "import pandas as pd\n",
        "import csv\n",
        "\n",
        "data  = pd.read_csv('Priem_2_-_Priem_2.csv')\n",
        "\n",
        "mediana_1 = data.groupby('Пол')['Сумма.баллов'].mean()\n",
        "print(mediana_1)\n",
        "\n",
        "mediana_2 = data.groupby('Аттестат.с.отличием.оценка')['Сумма.баллов'].mean()\n",
        "print(mediana_2)\n",
        "\n",
        "mediana_3 = data.groupby(['Пол', 'Аттестат.с.отличием.оценка'])['Сумма.баллов'].mean()\n",
        "print(mediana_3)\n",
        "\n",
        "print(\"введите 2 числа. Диапазон баллов\")\n",
        "down, up = map(int, input().split() )\n",
        "\n",
        "\n",
        "new = data[ ( data['ЕГЭ...матем.'] > down) & ( data['ЕГЭ...рус.яз.'] < up)]\n",
        "print( new['ЕГЭ...матем.'].count() )\n",
        "\n",
        "ranges = {'<70': [0, 70], '70-80': [70, 80], '80-90': [80, 90], '>90': [90, 100]}\n",
        "new_dataset = pd.DataFrame(columns=['Диапазон', 'Количество'])\n",
        "for range_name, range_values in ranges.items():\n",
        "    count = len(data[(data['Сумма.баллов']/4 >= range_values[0]) & (data['Сумма.баллов']/4 < range_values[1])])\n",
        "    new_dataset = new_dataset.append({'Диапазон': range_name, 'Количество': count}, ignore_index=True)\n",
        "print(new_dataset)\n"
      ]
    }
  ]
}